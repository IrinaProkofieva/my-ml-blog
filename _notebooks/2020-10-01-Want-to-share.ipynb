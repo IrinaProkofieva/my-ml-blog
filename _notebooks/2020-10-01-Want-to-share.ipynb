{
 "cells": [
  {
   "cell_type": "markdown",
   "metadata": {
    "id": "k25xxlCS04T5"
   },
   "source": [
    "# Хочу делиться\n",
    "\n",
    "- toc: true\n",
    "- badges: false\n",
    "- comments: true\n",
    "- categories: [fastpages, jupyter]"
   ]
  },
  {
   "cell_type": "markdown",
   "metadata": {
    "id": "WHTrRe3x04T6"
   },
   "source": [
    "После того, как ты обучил модель, которая показывает хорошие результаты, всегда хочется поделиться этой радостью с окружающими, хочется сказать: \"Смотри, у меня есть модель, которая может сказать, кто на картинке: кошка или собака. Хочешь попробовать? Вот загрузи фотографию своей Мурки\".  \n",
    "Но делать клиент-серверное приложение с крутым дизайном очень лень, на это ты потратишь больше времени, чем на саму модель. Что же делать? Не отправлять же всем свой код, в самом деле!  \n",
    "Выход есть! Нам поможет... Подождите, давайте все сделаем попорядку."
   ]
  },
  {
   "cell_type": "markdown",
   "metadata": {
    "id": "OviuBcwt04T6"
   },
   "source": [
    "## Обучаем модель"
   ]
  },
  {
   "cell_type": "markdown",
   "metadata": {
    "id": "juXs98cZ04T7"
   },
   "source": [
    "В этой статье у меня нет цели рассказать вам в подробностях, как обучать модель, цель этой статьи - показать, как быстро получить из модели готовое приложение. Поэтому на этом разделе не буду долго задерживаться. Итак, обучение модели. Поехали!"
   ]
  },
  {
   "cell_type": "markdown",
   "metadata": {
    "id": "Tdb3nVWp04T7"
   },
   "source": [
    "Сначала импортируем библиотеку. Раскомментируйте первую ячейку, если у вас еще не установлен fastai или установлена старая версия."
   ]
  },
  {
   "cell_type": "code",
   "execution_count": null,
   "metadata": {
    "id": "NmU1WssvbMIS"
   },
   "outputs": [],
   "source": [
    "#!pip uninstall fastai\n",
    "#!pip install fastai"
   ]
  },
  {
   "cell_type": "code",
   "execution_count": null,
   "metadata": {
    "id": "3V59JW_O14d9"
   },
   "outputs": [],
   "source": [
    "from fastai.vision.all import *\n",
    "from fastai.vision.widgets import *"
   ]
  },
  {
   "cell_type": "markdown",
   "metadata": {
    "id": "ND7sBFEJ04T-"
   },
   "source": [
    "Теперь возьмем уже существующий датасет с кошками и собаками, который нам предоставляет эта библиотека, и загрузим его на свою машину:"
   ]
  },
  {
   "cell_type": "code",
   "execution_count": null,
   "metadata": {
    "colab": {
     "base_uri": "https://localhost:8080/",
     "height": 35
    },
    "id": "RnHVMR5t04T_",
    "outputId": "557d78c6-6261-4e5c-d8cc-2b367cb2f5cc"
   },
   "outputs": [
    {
     "data": {
      "text/plain": [
       "Path('/root/.fastai/data/oxford-iiit-pet')"
      ]
     },
     "execution_count": 4,
     "metadata": {
      "tags": []
     },
     "output_type": "execute_result"
    }
   ],
   "source": [
    "path = untar_data(URLs.PETS)\n",
    "path"
   ]
  },
  {
   "cell_type": "markdown",
   "metadata": {
    "id": "27_b0Ekm04UF"
   },
   "source": [
    "Метод untar_data, как я уже сказала, скачивает датасет на сервер, где производятся вычисления: если вы считаете на локальном компьютере, то скачивает на ваш локальный компьютер, если вы считаете где-нибудь на Colab или Gradient, то на ту виртуальную машину и загружает. Затем этот метод распаковывает архив, если данные заархивированы, и возвращает путь, где лежат конечные данные.  \n",
    "Давайте посмотрим, что лежит внутри загруженной папки:"
   ]
  },
  {
   "cell_type": "code",
   "execution_count": null,
   "metadata": {
    "colab": {
     "base_uri": "https://localhost:8080/",
     "height": 35
    },
    "id": "a2u0wTvc04UF",
    "outputId": "51f55a85-2f65-4c07-8b78-98c4a23a6df5"
   },
   "outputs": [
    {
     "data": {
      "text/plain": [
       "(#2) [Path('annotations'),Path('images')]"
      ]
     },
     "execution_count": 5,
     "metadata": {
      "tags": []
     },
     "output_type": "execute_result"
    }
   ],
   "source": [
    "Path.BASE_PATH = path\n",
    "path.ls()"
   ]
  },
  {
   "cell_type": "markdown",
   "metadata": {
    "id": "lLsiOO-a6Ctb"
   },
   "source": [
    "Вы видели, какой у нас длинный путь, в котором лежит датасет. Чтобы не отображать его каждый раз, в первой строчке мы сделали адрес этой папки базовым. Таким образом, когда мы с помощью метода ls() отображаем содержимое папки, мы видим пути относительно этого базового адреса.  \n",
    "Итак, у нас внутри две папки: annotations и images. Папка annotations нас не интересует - там лежат данные для определения конкретного места на картинке, где изображены животные. Нас интересует папка images. Давайте заглянем в нее:"
   ]
  },
  {
   "cell_type": "code",
   "execution_count": null,
   "metadata": {
    "colab": {
     "base_uri": "https://localhost:8080/",
     "height": 55
    },
    "id": "4m4vwv6K95la",
    "outputId": "1e667bb6-9213-4bad-aef7-a3e1550653fe"
   },
   "outputs": [
    {
     "data": {
      "text/plain": [
       "(#7393) [Path('images/samoyed_21.jpg'),Path('images/newfoundland_48.jpg'),Path('images/wheaten_terrier_139.jpg'),Path('images/leonberger_1.jpg'),Path('images/samoyed_175.jpg'),Path('images/miniature_pinscher_110.jpg'),Path('images/german_shorthaired_3.jpg'),Path('images/wheaten_terrier_131.jpg'),Path('images/pomeranian_123.jpg'),Path('images/Egyptian_Mau_77.jpg')...]"
      ]
     },
     "execution_count": 6,
     "metadata": {
      "tags": []
     },
     "output_type": "execute_result"
    }
   ],
   "source": [
    "path = path/'images'\n",
    "path.ls()"
   ]
  },
  {
   "cell_type": "markdown",
   "metadata": {
    "id": "Q9ryOtBx-EOZ"
   },
   "source": [
    "Все верно. В папке images лежат 7393 изображения с кошками и собаками различных пород. Если мы внимательно посмотрим на названия картинок, то увидим, что это названия пород. А если посмотрим еще более внимательно, то увидим, что породы кошек написаны с большой буквы, а собак - с маленькой. Ну или можно было получить эту информацию с [сайта, с которого мы скачали наши данные](https://www.robots.ox.ac.uk/~vgg/data/pets/):)  \n",
    "Породы нам пока не нужны, а вот принцип отделения кошек от собак полезен. Оформим его в виде отдельного метода:"
   ]
  },
  {
   "cell_type": "code",
   "execution_count": null,
   "metadata": {
    "id": "tQUKUdb-UAhZ"
   },
   "outputs": [],
   "source": [
    "def cat_or_dog(x):\n",
    "    return 'Cat' if x[0].isupper() else 'Dog'"
   ]
  },
  {
   "cell_type": "markdown",
   "metadata": {
    "id": "VMGlwJi1AwOX"
   },
   "source": [
    "Загрузим наши данные таким образом, чтобы они представляли собой структуру, удобную для дальнейшей обработки. В этом нам поможет класс ImageDataLoaders:"
   ]
  },
  {
   "cell_type": "code",
   "execution_count": null,
   "metadata": {
    "id": "imyAjwtN-CDN"
   },
   "outputs": [],
   "source": [
    "dls = ImageDataLoaders.from_name_func(path, \n",
    "                                      get_image_files(path),\n",
    "                                      valid_pct = 0.2,\n",
    "                                      seed = 42,\n",
    "                                      label_func = cat_or_dog,\n",
    "                                      item_tfms = Resize(224))"
   ]
  },
  {
   "cell_type": "markdown",
   "metadata": {
    "id": "aUnXn2gDAoqN"
   },
   "source": [
    "Если вы читали мой [пост](https://irinaprokofieva.github.io/my-ml-blog/fastpages/jupyter/2020/09/02/IA-and-everything.html), в котором я рассказывала об основных понятиях нейронных сетей, то вы быстро поймете, что здесь произошло, а если нет, то предлагаю вам быстренько с ним ознакомиться.  \n",
    "Итак, разбираем построчно.  \n",
    "dls - переменная, в которой будет храниться структура из наших изображений.  \n",
    "ImageDataLoaders - собственно класс, который эту структуру представляет. Эта структура удобна тем, что в ней хранится информация, откуда брать таргеты (labels) для изображений, откуда брать сами изображения, как их делить на тренировочные и валидационные выборки и многое другое.  \n",
    "Собственно, функция from_name_func и показывает, что при создании загрузчика файлов(этой самой структуры), таргеты для каждого изображения будем брать из его имени.\n",
    "Функции передаем:  \n",
    "+ путь, откуда брать файлы; \n",
    "+ функцию, показывающую, каким образом брать эти файлы (get_image_files - брать изображения рекурсивно из каждой подпапки);\n",
    "+ valid_pct - какую часть от всех изображений выделить под валидационную выборку;\n",
    "+ seed - ядро для рандома, чтобы в валидацонную выборку попали случайные изображения, но чтобы на каждой эпохе эта выборка была одной и той же;\n",
    "+ label_func - задаем функцию, каким образом получить таргет. Помните, мы определили метод, определяющей по первой букве названия файла кошка перед нами или собака? Его мы и передадим.\n",
    "+ item_tfms - какие преобразования проделать с каждым изображением. В данном случае просто преобразуем все изображения к одному размеру (224*224), чтобы можно было работать с ними на ГПУ.\n",
    "\n",
    "Как видите, ничего сложного. Делаем все необходимое, что написано в том [посте](https://irinaprokofieva.github.io/my-ml-blog/fastpages/jupyter/2020/09/02/IA-and-everything.html), который я только что упомянула, буквально в одной строчке.  \n",
    "Идем дальше. Данные готовы, что делаем с моделью? Возьмем предобученную модель и дообучаем ее на своих данных. Для нашей не самой сложной модели возьмем хорошую сеть из 34-ти слоев: ResNet34. "
   ]
  },
  {
   "cell_type": "code",
   "execution_count": null,
   "metadata": {
    "id": "O8hOqWkVAcNF"
   },
   "outputs": [],
   "source": [
    "learner = cnn_learner(dls, resnet34, metrics=error_rate)"
   ]
  },
  {
   "cell_type": "markdown",
   "metadata": {
    "id": "FLdRthEYKLsD"
   },
   "source": [
    "Метод cnn_learner строит сверточную нейронную сеть из наших данных и из предобученной модели. Мы можем передать ему большое число параметров, например, loss function, оптимизирующую функцию, шаг (learning rate) и так далее. Но сейчас мы передали ему только метрику, которую хотели бы использовать - error_rate (отношение количества ошибочных предсказаний к общему числу предсказаний).  \n",
    "Кстати, если вы хотите подробнее узнать о той или иной функции, то можете использовать метод doc() или поставить ? или ?? перед именем функции. Попробуйте, это удобно!"
   ]
  },
  {
   "cell_type": "code",
   "execution_count": null,
   "metadata": {
    "colab": {
     "base_uri": "https://localhost:8080/",
     "height": 108
    },
    "id": "1LKCEguHJ-_c",
    "outputId": "44cfb0d8-f7a1-4f57-9445-368cb6063f92"
   },
   "outputs": [
    {
     "name": "stdout",
     "output_type": "stream",
     "text": [
      "cnn_learner(dls, arch, loss_func=None, pretrained=True, cut=None, splitter=None, y_range=None, config=None, n_out=None, normalize=True, opt_func=<function Adam at 0x7f27e8840378>, lr=0.001, cbs=None, metrics=None, path=None, model_dir='models', wd=None, wd_bn_bias=False, train_bn=True, moms=(0.95, 0.85, 0.95))\n",
      "Build a convnet style learner from `dls` and `arch`\n",
      "\n",
      "To get a prettier result with hyperlinks to source code and documentation, install nbdev: pip install nbdev\n"
     ]
    }
   ],
   "source": [
    "doc(cnn_learner)"
   ]
  },
  {
   "cell_type": "code",
   "execution_count": null,
   "metadata": {
    "id": "f-EdUT8NKSB-"
   },
   "outputs": [],
   "source": [
    "?cnn_learner"
   ]
  },
  {
   "cell_type": "code",
   "execution_count": null,
   "metadata": {
    "id": "lYgjMOxiMYuc"
   },
   "outputs": [],
   "source": [
    "??cnn_learner"
   ]
  },
  {
   "cell_type": "markdown",
   "metadata": {
    "id": "OlTNhjAiMqHB"
   },
   "source": [
    "Итак, нам остался последний шаг - собственно, само обучение. Вернее, дообучение модели на наших данных:\n"
   ]
  },
  {
   "cell_type": "code",
   "execution_count": null,
   "metadata": {
    "colab": {
     "base_uri": "https://localhost:8080/",
     "height": 224
    },
    "id": "kgwr54nrM3Bl",
    "outputId": "31142f08-445e-4b88-c4bd-f63097ed56da"
   },
   "outputs": [
    {
     "data": {
      "text/html": [
       "<table border=\"1\" class=\"dataframe\">\n",
       "  <thead>\n",
       "    <tr style=\"text-align: left;\">\n",
       "      <th>epoch</th>\n",
       "      <th>train_loss</th>\n",
       "      <th>valid_loss</th>\n",
       "      <th>error_rate</th>\n",
       "      <th>time</th>\n",
       "    </tr>\n",
       "  </thead>\n",
       "  <tbody>\n",
       "    <tr>\n",
       "      <td>0</td>\n",
       "      <td>0.122511</td>\n",
       "      <td>0.023786</td>\n",
       "      <td>0.005413</td>\n",
       "      <td>00:50</td>\n",
       "    </tr>\n",
       "  </tbody>\n",
       "</table>"
      ],
      "text/plain": [
       "<IPython.core.display.HTML object>"
      ]
     },
     "metadata": {
      "tags": []
     },
     "output_type": "display_data"
    },
    {
     "data": {
      "text/html": [
       "<table border=\"1\" class=\"dataframe\">\n",
       "  <thead>\n",
       "    <tr style=\"text-align: left;\">\n",
       "      <th>epoch</th>\n",
       "      <th>train_loss</th>\n",
       "      <th>valid_loss</th>\n",
       "      <th>error_rate</th>\n",
       "      <th>time</th>\n",
       "    </tr>\n",
       "  </thead>\n",
       "  <tbody>\n",
       "    <tr>\n",
       "      <td>0</td>\n",
       "      <td>0.060866</td>\n",
       "      <td>0.060334</td>\n",
       "      <td>0.014208</td>\n",
       "      <td>00:54</td>\n",
       "    </tr>\n",
       "    <tr>\n",
       "      <td>1</td>\n",
       "      <td>0.040196</td>\n",
       "      <td>0.015185</td>\n",
       "      <td>0.004060</td>\n",
       "      <td>00:54</td>\n",
       "    </tr>\n",
       "    <tr>\n",
       "      <td>2</td>\n",
       "      <td>0.018751</td>\n",
       "      <td>0.006086</td>\n",
       "      <td>0.002706</td>\n",
       "      <td>00:54</td>\n",
       "    </tr>\n",
       "    <tr>\n",
       "      <td>3</td>\n",
       "      <td>0.009726</td>\n",
       "      <td>0.012300</td>\n",
       "      <td>0.002706</td>\n",
       "      <td>00:55</td>\n",
       "    </tr>\n",
       "  </tbody>\n",
       "</table>"
      ],
      "text/plain": [
       "<IPython.core.display.HTML object>"
      ]
     },
     "metadata": {
      "tags": []
     },
     "output_type": "display_data"
    }
   ],
   "source": [
    "learner.fine_tune(4)"
   ]
  },
  {
   "cell_type": "markdown",
   "metadata": {
    "id": "dLdBaDQRPAYq"
   },
   "source": [
    "Дообучение модели иногда называют файнтьюнингом от английского термина fine-tune. Поэтому метод дообучения так и называется. В качестве параметра мы передаем число эпох. Например, 4."
   ]
  },
  {
   "cell_type": "markdown",
   "metadata": {
    "id": "-0ZkS3bnQZAI"
   },
   "source": [
    "4 эпохи дали нам очень неплохой результат. Я удовольствуюсь им, а вы, если хотите, можете посмотреть, как будет изменяться точность с дальнейшим обучением."
   ]
  },
  {
   "cell_type": "markdown",
   "metadata": {
    "id": "SyU2DnUSRPDl"
   },
   "source": [
    "Можем сохранить нашу модель, чтобы в следующий раз, когда она нам понадобится, нам не пришлось заново ее обучать. Есть 2 способа сохранить модель: \n",
    "1. Можно сохранить только параметры, тогда при следующем использовании мы будем брать брать нужную нам архитектуру модели (в данном случае, resnet34) и передавать ей сохраненные параметры.\n",
    "2. Можно сохранить сразу все: и параметры, и архитектуру, и при следующем использовании нам просто надо будет просто взять модель из сохраненного файла.\n",
    "\n",
    "Как вы догадываетесь, в первом случае сохраненный файл весит гораздо меньше, но требуется чуть больше хлопот. Не будем пока заморачиваться и сохраним всю модель целиком, как в пункте 2:"
   ]
  },
  {
   "cell_type": "code",
   "execution_count": null,
   "metadata": {
    "id": "Gu4LjOrjRhDX"
   },
   "outputs": [],
   "source": [
    "learner.export(os.path.abspath('./export.pkl'))"
   ]
  },
  {
   "cell_type": "markdown",
   "metadata": {
    "id": "D9I-N71cWkBq"
   },
   "source": [
    "Метод export сохраняет модель в файл с разрешением .pkl в текущую папку.\n",
    "По умолчанию имя файла будет \"export.pkl\", но вы можете передать в метод другое имя или абсолютный путь.  \n",
    "Проверим, что все сохранилось:"
   ]
  },
  {
   "cell_type": "code",
   "execution_count": null,
   "metadata": {
    "colab": {
     "base_uri": "https://localhost:8080/",
     "height": 35
    },
    "id": "maaUEjiYknv3",
    "outputId": "ace0e642-b68d-4b80-981c-38f90b174aad"
   },
   "outputs": [
    {
     "data": {
      "text/plain": [
       "(#1) [Path('export.pkl')]"
      ]
     },
     "execution_count": 15,
     "metadata": {
      "tags": []
     },
     "output_type": "execute_result"
    }
   ],
   "source": [
    "path = Path()\n",
    "path.ls(file_exts=\".pkl\")"
   ]
  },
  {
   "cell_type": "markdown",
   "metadata": {
    "id": "LKM5uhE671Md"
   },
   "source": [
    "Но если в Gradient ваша модель сохранится за вами, и вы снова увидите ее, если зайдете на следующий день, то с Colab-ом так, к сожалению, не прокатит. \n",
    "Зато с Colab удобно сохранять модель на гугл-диск. Для этого надо зайти на свой диск и выбрать место, куда сохранить:"
   ]
  },
  {
   "cell_type": "code",
   "execution_count": null,
   "metadata": {
    "colab": {
     "base_uri": "https://localhost:8080/",
     "height": 35
    },
    "id": "Wf8yF1jH8HIt",
    "outputId": "7f256e92-7cae-43d9-c5b8-8bc941188ad6"
   },
   "outputs": [
    {
     "name": "stdout",
     "output_type": "stream",
     "text": [
      "Mounted at /content/gdrive\n"
     ]
    }
   ],
   "source": [
    "from google.colab import drive\n",
    "drive.mount('/content/gdrive')"
   ]
  },
  {
   "cell_type": "code",
   "execution_count": null,
   "metadata": {
    "id": "hsYi_xn288uD"
   },
   "outputs": [],
   "source": [
    "learner.export('/content/gdrive/My Drive/export.pkl')"
   ]
  },
  {
   "cell_type": "markdown",
   "metadata": {
    "id": "vxE8RzuZ9UvT"
   },
   "source": [
    "Можете проверить, на вашем Google диске должен появиться файл с расширением .pkl."
   ]
  },
  {
   "cell_type": "markdown",
   "metadata": {
    "id": "xQheAlPQRDKX"
   },
   "source": [
    "## Используем готовую модель"
   ]
  },
  {
   "cell_type": "markdown",
   "metadata": {
    "id": "yGiErCbHVt-4"
   },
   "source": [
    "Теперь мы хотим загрузить полученную нами модель для дальнейшего использования. (Конечно, загружать модель в этом же блокноте нам сейчас особого смысла нет, но давайте представим, что мы создали новый jupyter-notebook и теперь работаем в нем. Кстати, вы можете именно так и поступить!)  \n",
    "Чтобы загрузить модель, используем метод load_learner."
   ]
  },
  {
   "cell_type": "code",
   "execution_count": null,
   "metadata": {
    "id": "UczDHohTM9FM"
   },
   "outputs": [],
   "source": [
    "learner_s = load_learner(path/'export.pkl')"
   ]
  },
  {
   "cell_type": "markdown",
   "metadata": {
    "id": "yOQGkWirnhCq"
   },
   "source": [
    "Модель загружена. Давайте посмотрим, помнит ли она, на какие два класса она должна делить изображения. Обратимся к загрузчику классов и посмотрим, какие таргеты у него есть:"
   ]
  },
  {
   "cell_type": "code",
   "execution_count": null,
   "metadata": {
    "colab": {
     "base_uri": "https://localhost:8080/",
     "height": 35
    },
    "id": "NMtdSjADnU8Q",
    "outputId": "25f13448-1583-4953-e975-cab5bfee6867"
   },
   "outputs": [
    {
     "data": {
      "text/plain": [
       "(#2) ['Cat','Dog']"
      ]
     },
     "execution_count": 17,
     "metadata": {
      "tags": []
     },
     "output_type": "execute_result"
    }
   ],
   "source": [
    "learner_s.dls.vocab"
   ]
  },
  {
   "cell_type": "markdown",
   "metadata": {
    "id": "NA_qupMlnu8R"
   },
   "source": [
    "Отлично. Чтобы сделать предсказание, будем пользоваться методом predict. Но для начала давайте получим самый простой интерфейс для загрузки картинок и \"скармливания\" их нашей модели. Начинается самая интересная часть, ради которой и была написана эта статья."
   ]
  },
  {
   "cell_type": "markdown",
   "metadata": {
    "id": "Q1GoEjLkpXqP"
   },
   "source": [
    "### IPython widgets"
   ]
  },
  {
   "cell_type": "markdown",
   "metadata": {
    "id": "ehjl4eO_phSf"
   },
   "source": [
    "Для людей, не сильно любящих заниматься разработкой графического пользовательского интерфейса(GUI), существуют [IPython widgets](https://ipywidgets.readthedocs.io/en/latest/user_guide.html). Это GUI-компоненты, помогающие быстро и без особых трудностей создать простой пользовательский интерфейс прямо в jupyter notebook-е.  \n",
    "Давайте посмотрим, что он умеет. \n",
    "\n",
    "Создадим кнопку для загрузки изображения с локального компьютера. Самое прекрасное, что такая кнопка уже есть в виджетах и нам не придется писать для нее функционал самим."
   ]
  },
  {
   "cell_type": "code",
   "execution_count": null,
   "metadata": {
    "colab": {
     "base_uri": "https://localhost:8080/",
     "height": 49,
     "referenced_widgets": [
      "9dc8f29c15394303b18c04ed27617174",
      "0f168d03e9a84222ae62b32d1700f0dd",
      "5ed38c1472d6401b87842094fd69d5da"
     ]
    },
    "id": "oey_DXXrne-8",
    "outputId": "72c52b39-cff3-46e6-ee34-5783c8e95d29"
   },
   "outputs": [
    {
     "data": {
      "application/vnd.jupyter.widget-view+json": {
       "model_id": "9dc8f29c15394303b18c04ed27617174",
       "version_major": 2,
       "version_minor": 0
      },
      "text/plain": [
       "FileUpload(value={}, description='Upload')"
      ]
     },
     "metadata": {
      "tags": []
     },
     "output_type": "display_data"
    }
   ],
   "source": [
    "btn_upload = widgets.FileUpload()\n",
    "btn_upload"
   ]
  },
  {
   "cell_type": "markdown",
   "metadata": {
    "id": "gwUxIJtBsrwO"
   },
   "source": [
    "Попробуйте загрузить какое-нибудь изображение. Чтобы его отобразить, выделим место, в котором будут отображаться загруженные картинки:"
   ]
  },
  {
   "cell_type": "code",
   "execution_count": null,
   "metadata": {
    "colab": {
     "base_uri": "https://localhost:8080/",
     "height": 17,
     "referenced_widgets": [
      "30fafb653c944d02b33c3ee50b70b6b5",
      "f6bc0c5fa9064f9191a5b829a13a12ca"
     ]
    },
    "id": "Lg8NEjpapLpw",
    "outputId": "5d24d525-fdbb-4718-e5ad-13b94cdd4d80"
   },
   "outputs": [
    {
     "data": {
      "application/vnd.jupyter.widget-view+json": {
       "model_id": "30fafb653c944d02b33c3ee50b70b6b5",
       "version_major": 2,
       "version_minor": 0
      },
      "text/plain": [
       "Output()"
      ]
     },
     "metadata": {
      "tags": []
     },
     "output_type": "display_data"
    }
   ],
   "source": [
    "placeholder = widgets.Output()\n",
    "placeholder"
   ]
  },
  {
   "cell_type": "markdown",
   "metadata": {
    "id": "rfeLI3IptT8I"
   },
   "source": [
    "Видите, мы его создали, но пока там пусто. Давайте отобразим там ваше загруженное изображение:"
   ]
  },
  {
   "cell_type": "code",
   "execution_count": null,
   "metadata": {
    "id": "nqa9MWjOtSun"
   },
   "outputs": [],
   "source": [
    "img = PILImage.create(btn_upload.data[-1])\n",
    "with placeholder: display(img.to_thumb(250,250))"
   ]
  },
  {
   "cell_type": "markdown",
   "metadata": {
    "id": "qFVKj6C1ulNe"
   },
   "source": [
    "Чтобы снова очистить это место, используем метод clear_output():"
   ]
  },
  {
   "cell_type": "code",
   "execution_count": null,
   "metadata": {
    "id": "E0T9b2Xvt3in"
   },
   "outputs": [],
   "source": [
    "placeholder.clear_output()"
   ]
  },
  {
   "cell_type": "markdown",
   "metadata": {
    "id": "yvaAW_Pbuvr2"
   },
   "source": [
    "А теперь посмотрим, что скажет нам наша модель:"
   ]
  },
  {
   "cell_type": "code",
   "execution_count": null,
   "metadata": {
    "colab": {
     "base_uri": "https://localhost:8080/",
     "height": 35
    },
    "id": "ChSFHYE2uppn",
    "outputId": "95df037a-89c2-458b-afd6-1a03963735fd"
   },
   "outputs": [
    {
     "data": {
      "text/html": [],
      "text/plain": [
       "<IPython.core.display.HTML object>"
      ]
     },
     "metadata": {
      "tags": []
     },
     "output_type": "display_data"
    },
    {
     "data": {
      "text/plain": [
       "('Cat', tensor(0), tensor([1.0000e+00, 1.6606e-11]))"
      ]
     },
     "execution_count": 23,
     "metadata": {
      "tags": []
     },
     "output_type": "execute_result"
    }
   ],
   "source": [
    "learner_s.predict(img)"
   ]
  },
  {
   "cell_type": "markdown",
   "metadata": {
    "id": "iZZA10P1vNGr"
   },
   "source": [
    "Здорово! Нам выводится 3 значения:  \n",
    "1. Таргет (класс, к которому наша модель относит наше изображение)\n",
    "2. Порядковый номер этого класса\n",
    "3. Вероятности, с каким это изображение относится к каждому из классов\n",
    "\n",
    "Давайте создадим специальное место, где будем отображать предсказание:"
   ]
  },
  {
   "cell_type": "code",
   "execution_count": null,
   "metadata": {
    "colab": {
     "base_uri": "https://localhost:8080/",
     "height": 49,
     "referenced_widgets": [
      "63f2814ec6c24bc18bd4d796f31d281a",
      "f32cad5ff78d42ada309eb4f25e1c8cf",
      "1c5c0018e41c4d33b3a2f94a6cc5ecd4"
     ]
    },
    "id": "94_i_GOWvLpR",
    "outputId": "eb1b8b4a-02f2-4a45-dfd4-63beb02f640d"
   },
   "outputs": [
    {
     "data": {
      "text/html": [],
      "text/plain": [
       "<IPython.core.display.HTML object>"
      ]
     },
     "metadata": {
      "tags": []
     },
     "output_type": "display_data"
    },
    {
     "data": {
      "application/vnd.jupyter.widget-view+json": {
       "model_id": "63f2814ec6c24bc18bd4d796f31d281a",
       "version_major": 2,
       "version_minor": 0
      },
      "text/plain": [
       "Label(value='Предсказание: Cat; Вероятность: 1.0000')"
      ]
     },
     "metadata": {
      "tags": []
     },
     "output_type": "display_data"
    }
   ],
   "source": [
    "pred, ndx, probs = learner_s.predict(img) \n",
    "lbl_pred = widgets.Label()\n",
    "lbl_pred.value = f'Предсказание: {pred}; Вероятность: {probs[ndx]:.04f}'\n",
    "lbl_pred"
   ]
  },
  {
   "cell_type": "markdown",
   "metadata": {
    "id": "KpF1FyZ9zpg9"
   },
   "source": [
    "Хочется, чтобы картинка и предсказания отображались сразу после того, как мы загрузим изображение. Для этого объединим все действия выше в один метод и скажем, чтобы его выполняла загрузочная кнопка:"
   ]
  },
  {
   "cell_type": "code",
   "execution_count": null,
   "metadata": {
    "id": "pYhcM6pl0Daz"
   },
   "outputs": [],
   "source": [
    "def on_click(change):\n",
    "    img = PILImage.create(btn_upload.data[-1])\n",
    "    placeholder.clear_output()\n",
    "    with placeholder: display(img.to_thumb(250,250))\n",
    "    pred, ndx, probs = learner_s.predict(img) \n",
    "    lbl_pred.value = f'Предсказание: {pred}; Вероятность: {probs[ndx]:.04f}'\n",
    "\n",
    "btn_upload.observe(on_click)"
   ]
  },
  {
   "cell_type": "markdown",
   "metadata": {
    "id": "laSObtv_yFcJ"
   },
   "source": [
    "Теперь давайте соберем все элементы вместе. Расположим их друг над другом в элементе VBox:"
   ]
  },
  {
   "cell_type": "code",
   "execution_count": null,
   "metadata": {
    "colab": {
     "base_uri": "https://localhost:8080/",
     "height": 113,
     "referenced_widgets": [
      "858e9aefc8d344eab7f5c49e0c311d1f",
      "4d60a9e2acf5468188bacb739e05ffd4",
      "10c51e677f6540e3a636483e7d10f7c9",
      "9dc8f29c15394303b18c04ed27617174",
      "30fafb653c944d02b33c3ee50b70b6b5",
      "63f2814ec6c24bc18bd4d796f31d281a",
      "9b1baa335d5f4b30997d543836dbf776",
      "6e374fb2f0ee40afbd10b786cd0b6ede",
      "0f168d03e9a84222ae62b32d1700f0dd",
      "5ed38c1472d6401b87842094fd69d5da",
      "f32cad5ff78d42ada309eb4f25e1c8cf",
      "1c5c0018e41c4d33b3a2f94a6cc5ecd4",
      "f6bc0c5fa9064f9191a5b829a13a12ca"
     ]
    },
    "id": "Y4hawzHGx57r",
    "outputId": "9590e100-a436-4810-a37d-bdc011b0ee3d"
   },
   "outputs": [
    {
     "data": {
      "application/vnd.jupyter.widget-view+json": {
       "model_id": "858e9aefc8d344eab7f5c49e0c311d1f",
       "version_major": 2,
       "version_minor": 0
      },
      "text/plain": [
       "VBox(children=(Label(value='Загрузите картинку с кошкой или собакой!'), FileUpload(value={'a6bd9504c3c282a19c1…"
      ]
     },
     "metadata": {
      "tags": []
     },
     "output_type": "display_data"
    }
   ],
   "source": [
    "VBox([widgets.Label('Загрузите картинку с кошкой или собакой!'), btn_upload, placeholder, lbl_pred])"
   ]
  },
  {
   "cell_type": "markdown",
   "metadata": {
    "id": "op_4ilxgrNRU"
   },
   "source": [
    "### Voilà"
   ]
  },
  {
   "cell_type": "markdown",
   "metadata": {
    "id": "_9dLihip1Y0V"
   },
   "source": [
    "Здорово, правда? Но это не все. Все-таки, приложение в блокноте не всегда нас полностью удовлетворяет. Нам не хочется показывать другим людям блокнот с кодом, нам хочется показать только конечный разультат. И тут нам на помощь приходит [Voilà](https://voila.readthedocs.io/en/stable/#). Voilà - система, которую можно использовать как отдельное приложение, а можно как расширение jupyter notebook-а, что мы и будем делать. Voilà создает веб приложение из jupyter notebook-а: он отображает выводы из ячеек, текстовые ячейки и IPython widgets и при этом скрывает ячейки с кодом. "
   ]
  },
  {
   "cell_type": "markdown",
   "metadata": {
    "id": "-Cr4iRy15pqa"
   },
   "source": [
    "Давайте вынесем в отдельный блокнот только тот код, который нам необходим для создания веб-приложения (то есть загрузку модели и создание приложения с помощью виджетов). Можете добавить какой-нибудь текст, оформленный с помощью Markdown."
   ]
  },
  {
   "cell_type": "markdown",
   "metadata": {
    "id": "1_5zm1Ds5nxY"
   },
   "source": [
    "Чтобы установить voila, скопируйте следующую ячейку в блокнот и раскомментируйте строки. Первая строка устанавливает Voilà, а вторая устанавливает связь между нею и блокнотом. Или можно использовать командную строку."
   ]
  },
  {
   "cell_type": "code",
   "execution_count": null,
   "metadata": {
    "id": "Xz4aT-x41M4u"
   },
   "outputs": [],
   "source": [
    "# !pip install voila\n",
    "# !jupyter serverextension enable voila --sys-prefix"
   ]
  },
  {
   "cell_type": "markdown",
   "metadata": {
    "id": "ODLl8yFI5Zvw"
   },
   "source": [
    "После установки, если она прошла успешно, у вас должен появиться значок Voilà. Примерно вот такой:\n",
    "![](my_icons/voila.png)\n",
    "\n",
    "Можно нажать на него и увидеть результат. А можно в URL вашего текущего блокнота заменить \"notebook\" на \"voila/render\", результат будет тот же.\n",
    "\n",
    "Помните, в моем [посте о приборах и материалах](https://irinaprokofieva.github.io/my-ml-blog/fastpages/jupyter/2020/09/18/software.html) я говорила, что в Colab-е возникают проблемы с использованием voila? Если вы работаете на Colabe и у вас возникли проблемы, попробуйте проделать тоже самое, например, в Gradient-е или даже у себя на локальном компьютере, ведь модель уже обучена, и мы можем обойтись и без мощного ГПУ. Только не забудьте подгрузить файл с вашей моделью."
   ]
  },
  {
   "cell_type": "markdown",
   "metadata": {
    "id": "XWHS22SCBI74"
   },
   "source": [
    "### Binder"
   ]
  },
  {
   "cell_type": "markdown",
   "metadata": {
    "id": "WCy8GXMqBNYH"
   },
   "source": [
    "Все это, конечно, хорошо, но хочется, чтобы мы могли показывать свои достижения не только со своего компьютера. Именно для удовлетворения этой потребности и существует [Binder](https://mybinder.org/).  \n",
    "Binder - ПО, которое из Git-репозитория делает веб-приложение.  \n",
    "\n",
    "Как это работает?\n",
    "1. Создаем репозиторий в своем GitHub-аккаунте,куда загружаем:  \n",
    "  + jupyter notebook, в котором и содержится наше приложение\n",
    "  + обученную модель\n",
    "  + файл requirements.txt, в котором указаны требования к библиотекам и зависимостям, необходимым для работы нашего приложения. В нашем конкретном случае в файле содержатся 5 строк:  \n",
    "\n",
    "    voila  \n",
    "fastai>=2  \n",
    "pillow<7  \n",
    "packaging  \n",
    "ipywidgets==7.5.1  \n",
    "2. На сайте https://mybinder.org/ указываем ссылку на репозиторий в строке \"GitHub repository name or URL\", в строке \"URL to open\" вводим /voila/render/имя_вашего_jupyter_notebookа.ipynb и заменяем File на URL в выпадающем списке, как показано на картинке.\n",
    "![](my_icons/binder.png)\n",
    "3. Нажимаем кнопку launch.\n",
    "4. Binder находит файл с зависимостями (requirements.txt) и, опираясь на него, начинает строить Docker образ нашего репозитория. Если для этого репозитория уже был построен образ, то он не будет перестраивать его заново. Если были произведены какие-то изменения в репозитории, то образ тоже обновится.\n",
    "5. Когда образ построен, запустится страничка с вашим приложением. Вы можете использовать ссылку на него, чтобы поделиться своими успехами с друзьями."
   ]
  },
  {
   "cell_type": "markdown",
   "metadata": {
    "id": "u45cjebItlxM"
   },
   "source": [
    "Ура! Приложение готово, и нам не пришлось долго мучиться с его оформлением и размещением!  \n",
    "Если у вас возникли проблемы, можете посмотреть для примера на мой репозиторий https://github.com/IrinaProkofieva/BearClassifier. Если у вас возникли вопросы, пишите в комментариях)\n",
    "\n",
    "До новых встреч!"
   ]
  },
  {
   "cell_type": "code",
   "execution_count": null,
   "metadata": {
    "id": "SNVNbHwa5ZGR"
   },
   "outputs": [],
   "source": []
  }
 ],
 "metadata": {
  "accelerator": "GPU",
  "colab": {
   "collapsed_sections": [],
   "name": "2020-10-01-Want-to-share.ipynb",
   "provenance": []
  },
  "kernelspec": {
   "display_name": "Python 3",
   "language": "python",
   "name": "python3"
  },
  "language_info": {
   "codemirror_mode": {
    "name": "ipython",
    "version": 3
   },
   "file_extension": ".py",
   "mimetype": "text/x-python",
   "name": "python",
   "nbconvert_exporter": "python",
   "pygments_lexer": "ipython3",
   "version": "3.7.6"
  },
  "widgets": {
   "application/vnd.jupyter.widget-state+json": {
    "0f168d03e9a84222ae62b32d1700f0dd": {
     "model_module": "@jupyter-widgets/controls",
     "model_name": "ButtonStyleModel",
     "state": {
      "_model_module": "@jupyter-widgets/controls",
      "_model_module_version": "1.5.0",
      "_model_name": "ButtonStyleModel",
      "_view_count": null,
      "_view_module": "@jupyter-widgets/base",
      "_view_module_version": "1.2.0",
      "_view_name": "StyleView",
      "button_color": null,
      "font_weight": ""
     }
    },
    "10c51e677f6540e3a636483e7d10f7c9": {
     "model_module": "@jupyter-widgets/controls",
     "model_name": "LabelModel",
     "state": {
      "_dom_classes": [],
      "_model_module": "@jupyter-widgets/controls",
      "_model_module_version": "1.5.0",
      "_model_name": "LabelModel",
      "_view_count": null,
      "_view_module": "@jupyter-widgets/controls",
      "_view_module_version": "1.5.0",
      "_view_name": "LabelView",
      "description": "",
      "description_tooltip": null,
      "layout": "IPY_MODEL_6e374fb2f0ee40afbd10b786cd0b6ede",
      "placeholder": "​",
      "style": "IPY_MODEL_9b1baa335d5f4b30997d543836dbf776",
      "value": "Загрузите картинку с кошкой или собакой!"
     }
    },
    "1c5c0018e41c4d33b3a2f94a6cc5ecd4": {
     "model_module": "@jupyter-widgets/base",
     "model_name": "LayoutModel",
     "state": {
      "_model_module": "@jupyter-widgets/base",
      "_model_module_version": "1.2.0",
      "_model_name": "LayoutModel",
      "_view_count": null,
      "_view_module": "@jupyter-widgets/base",
      "_view_module_version": "1.2.0",
      "_view_name": "LayoutView",
      "align_content": null,
      "align_items": null,
      "align_self": null,
      "border": null,
      "bottom": null,
      "display": null,
      "flex": null,
      "flex_flow": null,
      "grid_area": null,
      "grid_auto_columns": null,
      "grid_auto_flow": null,
      "grid_auto_rows": null,
      "grid_column": null,
      "grid_gap": null,
      "grid_row": null,
      "grid_template_areas": null,
      "grid_template_columns": null,
      "grid_template_rows": null,
      "height": null,
      "justify_content": null,
      "justify_items": null,
      "left": null,
      "margin": null,
      "max_height": null,
      "max_width": null,
      "min_height": null,
      "min_width": null,
      "object_fit": null,
      "object_position": null,
      "order": null,
      "overflow": null,
      "overflow_x": null,
      "overflow_y": null,
      "padding": null,
      "right": null,
      "top": null,
      "visibility": null,
      "width": null
     }
    },
    "30fafb653c944d02b33c3ee50b70b6b5": {
     "model_module": "@jupyter-widgets/output",
     "model_name": "OutputModel",
     "state": {
      "_dom_classes": [],
      "_model_module": "@jupyter-widgets/output",
      "_model_module_version": "1.0.0",
      "_model_name": "OutputModel",
      "_view_count": null,
      "_view_module": "@jupyter-widgets/output",
      "_view_module_version": "1.0.0",
      "_view_name": "OutputView",
      "layout": "IPY_MODEL_f6bc0c5fa9064f9191a5b829a13a12ca",
      "msg_id": "",
      "outputs": []
     }
    },
    "4d60a9e2acf5468188bacb739e05ffd4": {
     "model_module": "@jupyter-widgets/base",
     "model_name": "LayoutModel",
     "state": {
      "_model_module": "@jupyter-widgets/base",
      "_model_module_version": "1.2.0",
      "_model_name": "LayoutModel",
      "_view_count": null,
      "_view_module": "@jupyter-widgets/base",
      "_view_module_version": "1.2.0",
      "_view_name": "LayoutView",
      "align_content": null,
      "align_items": null,
      "align_self": null,
      "border": null,
      "bottom": null,
      "display": null,
      "flex": null,
      "flex_flow": null,
      "grid_area": null,
      "grid_auto_columns": null,
      "grid_auto_flow": null,
      "grid_auto_rows": null,
      "grid_column": null,
      "grid_gap": null,
      "grid_row": null,
      "grid_template_areas": null,
      "grid_template_columns": null,
      "grid_template_rows": null,
      "height": null,
      "justify_content": null,
      "justify_items": null,
      "left": null,
      "margin": null,
      "max_height": null,
      "max_width": null,
      "min_height": null,
      "min_width": null,
      "object_fit": null,
      "object_position": null,
      "order": null,
      "overflow": null,
      "overflow_x": null,
      "overflow_y": null,
      "padding": null,
      "right": null,
      "top": null,
      "visibility": null,
      "width": null
     }
    },
    "5ed38c1472d6401b87842094fd69d5da": {
     "model_module": "@jupyter-widgets/base",
     "model_name": "LayoutModel",
     "state": {
      "_model_module": "@jupyter-widgets/base",
      "_model_module_version": "1.2.0",
      "_model_name": "LayoutModel",
      "_view_count": null,
      "_view_module": "@jupyter-widgets/base",
      "_view_module_version": "1.2.0",
      "_view_name": "LayoutView",
      "align_content": null,
      "align_items": null,
      "align_self": null,
      "border": null,
      "bottom": null,
      "display": null,
      "flex": null,
      "flex_flow": null,
      "grid_area": null,
      "grid_auto_columns": null,
      "grid_auto_flow": null,
      "grid_auto_rows": null,
      "grid_column": null,
      "grid_gap": null,
      "grid_row": null,
      "grid_template_areas": null,
      "grid_template_columns": null,
      "grid_template_rows": null,
      "height": null,
      "justify_content": null,
      "justify_items": null,
      "left": null,
      "margin": null,
      "max_height": null,
      "max_width": null,
      "min_height": null,
      "min_width": null,
      "object_fit": null,
      "object_position": null,
      "order": null,
      "overflow": null,
      "overflow_x": null,
      "overflow_y": null,
      "padding": null,
      "right": null,
      "top": null,
      "visibility": null,
      "width": null
     }
    },
    "63f2814ec6c24bc18bd4d796f31d281a": {
     "model_module": "@jupyter-widgets/controls",
     "model_name": "LabelModel",
     "state": {
      "_dom_classes": [],
      "_model_module": "@jupyter-widgets/controls",
      "_model_module_version": "1.5.0",
      "_model_name": "LabelModel",
      "_view_count": null,
      "_view_module": "@jupyter-widgets/controls",
      "_view_module_version": "1.5.0",
      "_view_name": "LabelView",
      "description": "",
      "description_tooltip": null,
      "layout": "IPY_MODEL_1c5c0018e41c4d33b3a2f94a6cc5ecd4",
      "placeholder": "​",
      "style": "IPY_MODEL_f32cad5ff78d42ada309eb4f25e1c8cf",
      "value": "Предсказание: Cat; Вероятность: 1.0000"
     }
    },
    "6e374fb2f0ee40afbd10b786cd0b6ede": {
     "model_module": "@jupyter-widgets/base",
     "model_name": "LayoutModel",
     "state": {
      "_model_module": "@jupyter-widgets/base",
      "_model_module_version": "1.2.0",
      "_model_name": "LayoutModel",
      "_view_count": null,
      "_view_module": "@jupyter-widgets/base",
      "_view_module_version": "1.2.0",
      "_view_name": "LayoutView",
      "align_content": null,
      "align_items": null,
      "align_self": null,
      "border": null,
      "bottom": null,
      "display": null,
      "flex": null,
      "flex_flow": null,
      "grid_area": null,
      "grid_auto_columns": null,
      "grid_auto_flow": null,
      "grid_auto_rows": null,
      "grid_column": null,
      "grid_gap": null,
      "grid_row": null,
      "grid_template_areas": null,
      "grid_template_columns": null,
      "grid_template_rows": null,
      "height": null,
      "justify_content": null,
      "justify_items": null,
      "left": null,
      "margin": null,
      "max_height": null,
      "max_width": null,
      "min_height": null,
      "min_width": null,
      "object_fit": null,
      "object_position": null,
      "order": null,
      "overflow": null,
      "overflow_x": null,
      "overflow_y": null,
      "padding": null,
      "right": null,
      "top": null,
      "visibility": null,
      "width": null
     }
    },
    "858e9aefc8d344eab7f5c49e0c311d1f": {
     "model_module": "@jupyter-widgets/controls",
     "model_name": "VBoxModel",
     "state": {
      "_dom_classes": [],
      "_model_module": "@jupyter-widgets/controls",
      "_model_module_version": "1.5.0",
      "_model_name": "VBoxModel",
      "_view_count": null,
      "_view_module": "@jupyter-widgets/controls",
      "_view_module_version": "1.5.0",
      "_view_name": "VBoxView",
      "box_style": "",
      "children": [
       "IPY_MODEL_10c51e677f6540e3a636483e7d10f7c9",
       "IPY_MODEL_9dc8f29c15394303b18c04ed27617174",
       "IPY_MODEL_30fafb653c944d02b33c3ee50b70b6b5",
       "IPY_MODEL_63f2814ec6c24bc18bd4d796f31d281a"
      ],
      "layout": "IPY_MODEL_4d60a9e2acf5468188bacb739e05ffd4"
     }
    },
    "9b1baa335d5f4b30997d543836dbf776": {
     "model_module": "@jupyter-widgets/controls",
     "model_name": "DescriptionStyleModel",
     "state": {
      "_model_module": "@jupyter-widgets/controls",
      "_model_module_version": "1.5.0",
      "_model_name": "DescriptionStyleModel",
      "_view_count": null,
      "_view_module": "@jupyter-widgets/base",
      "_view_module_version": "1.2.0",
      "_view_name": "StyleView",
      "description_width": ""
     }
    },
    "9dc8f29c15394303b18c04ed27617174": {
     "model_module": "@jupyter-widgets/controls",
     "model_name": "FileUploadModel",
     "state": {
      "_counter": 1,
      "_dom_classes": [],
      "_model_module": "@jupyter-widgets/controls",
      "_model_module_version": "1.5.0",
      "_model_name": "FileUploadModel",
      "_view_count": null,
      "_view_module": "@jupyter-widgets/controls",
      "_view_module_version": "1.5.0",
      "_view_name": "FileUploadView",
      "accept": "",
      "button_style": "",
      "data": [
       null
      ],
      "description": "Upload",
      "description_tooltip": null,
      "disabled": false,
      "error": "",
      "icon": "upload",
      "layout": "IPY_MODEL_5ed38c1472d6401b87842094fd69d5da",
      "metadata": [
       {
        "lastModified": 1598348631201,
        "name": "a6bd9504c3c282a19c108276797b5e03.jpg",
        "size": 746803,
        "type": "image/jpeg"
       }
      ],
      "multiple": false,
      "style": "IPY_MODEL_0f168d03e9a84222ae62b32d1700f0dd"
     }
    },
    "f32cad5ff78d42ada309eb4f25e1c8cf": {
     "model_module": "@jupyter-widgets/controls",
     "model_name": "DescriptionStyleModel",
     "state": {
      "_model_module": "@jupyter-widgets/controls",
      "_model_module_version": "1.5.0",
      "_model_name": "DescriptionStyleModel",
      "_view_count": null,
      "_view_module": "@jupyter-widgets/base",
      "_view_module_version": "1.2.0",
      "_view_name": "StyleView",
      "description_width": ""
     }
    },
    "f6bc0c5fa9064f9191a5b829a13a12ca": {
     "model_module": "@jupyter-widgets/base",
     "model_name": "LayoutModel",
     "state": {
      "_model_module": "@jupyter-widgets/base",
      "_model_module_version": "1.2.0",
      "_model_name": "LayoutModel",
      "_view_count": null,
      "_view_module": "@jupyter-widgets/base",
      "_view_module_version": "1.2.0",
      "_view_name": "LayoutView",
      "align_content": null,
      "align_items": null,
      "align_self": null,
      "border": null,
      "bottom": null,
      "display": null,
      "flex": null,
      "flex_flow": null,
      "grid_area": null,
      "grid_auto_columns": null,
      "grid_auto_flow": null,
      "grid_auto_rows": null,
      "grid_column": null,
      "grid_gap": null,
      "grid_row": null,
      "grid_template_areas": null,
      "grid_template_columns": null,
      "grid_template_rows": null,
      "height": null,
      "justify_content": null,
      "justify_items": null,
      "left": null,
      "margin": null,
      "max_height": null,
      "max_width": null,
      "min_height": null,
      "min_width": null,
      "object_fit": null,
      "object_position": null,
      "order": null,
      "overflow": null,
      "overflow_x": null,
      "overflow_y": null,
      "padding": null,
      "right": null,
      "top": null,
      "visibility": null,
      "width": null
     }
    }
   }
  }
 },
 "nbformat": 4,
 "nbformat_minor": 1
}
